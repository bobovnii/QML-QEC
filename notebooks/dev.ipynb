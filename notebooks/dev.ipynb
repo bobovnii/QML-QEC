{
 "cells": [
  {
   "cell_type": "code",
   "execution_count": 1,
   "metadata": {},
   "outputs": [],
   "source": [
    "%matplotlib inline\n",
    "%load_ext autoreload\n",
    "%autoreload 2\n",
    "\n",
    "import warnings\n",
    "warnings.filterwarnings(\"ignore\")\n",
    "\n",
    "import sys\n",
    "sys.path.append('..')\n",
    "\n",
    "from qenv import Denoiser, Compare\n",
    "import json\n",
    "import numpy as np\n",
    "\n",
    "key_path = \"../res/qiskit_apikey.json\"\n",
    "with open(key_path, 'r') as f:\n",
    "    APIkey = json.load(f)['key']"
   ]
  },
  {
   "cell_type": "markdown",
   "metadata": {},
   "source": [
    "### Mock data"
   ]
  },
  {
   "cell_type": "code",
   "execution_count": 2,
   "metadata": {},
   "outputs": [],
   "source": [
    "cmp = Compare(seed=8)"
   ]
  },
  {
   "cell_type": "code",
   "execution_count": 3,
   "metadata": {},
   "outputs": [],
   "source": [
    "X = [\n",
    "    [0, 1, 0, 0.99],\n",
    "    [1, 0, 0.99, 0.2],\n",
    "    [1, 0, 0.99, 0.1],\n",
    "    [1, 0, 0.99, 0.05],\n",
    "    [1, 0, 0.99, 0.002],\n",
    "    [1, 0, 1, 0],\n",
    "]\n",
    "\n",
    "Y = [0.23, 0.43, 0.3]"
   ]
  },
  {
   "cell_type": "code",
   "execution_count": 4,
   "metadata": {},
   "outputs": [
    {
     "name": "stdout",
     "output_type": "stream",
     "text": [
      "DT: 0.198287 (0.035807)\n",
      "RD: 0.257792 (0.100581)\n",
      "LA: 0.249452 (0.100864)\n",
      "EN: 0.249452 (0.100864)\n"
     ]
    },
    {
     "data": {
      "image/png": "[encoded data removed]",
      "text/plain": [
       "<Figure size 432x288 with 1 Axes>"
      ]
     },
     "metadata": {
      "needs_background": "light"
     },
     "output_type": "display_data"
    }
   ],
   "source": [
    "cmp.run(X, Y, n_splits_val=3, plot=True)"
   ]
  },
  {
   "cell_type": "markdown",
   "metadata": {},
   "source": [
    "### Real experiment"
   ]
  },
  {
   "cell_type": "code",
   "execution_count": 10,
   "metadata": {
    "scrolled": true
   },
   "outputs": [
    {
     "name": "stdout",
     "output_type": "stream",
     "text": [
      "'An IBM Q Experience v2 account is already enabled.'\n"
     ]
    },
    {
     "data": {
      "text/plain": [
       "[0.2594, 0.7406]"
      ]
     },
     "execution_count": 10,
     "metadata": {},
     "output_type": "execute_result"
    }
   ],
   "source": [
    "n_qubits = 1\n",
    "denoiser = Denoiser(n_qubits, APIkey)\n",
    "\n",
    "psi = [1, 0]\n",
    "theta = [(np.pi / 4,\n",
    "          1,\n",
    "          1)]\n",
    "dist = denoiser.get_dist(psi, theta)\n",
    "dist"
   ]
  },
  {
   "cell_type": "code",
   "execution_count": 11,
   "metadata": {
    "scrolled": false
   },
   "outputs": [],
   "source": [
    "cmp = Compare(seed=8)\n",
    "\n",
    "X = list()\n",
    "Y = list()\n",
    "\n",
    "for i in range(6):\n",
    "    exp_list = list()\n",
    "    exp_list.extend(psi)\n",
    "    exp_list.extend(dist)\n",
    "    \n",
    "    X.append(exp_list)\n",
    "    # FIX: Don't know what parameters to pass here\n",
    "#     Y.append(theta[0][0])\n",
    "    Y.extend(list(theta[0]))\n",
    "\n",
    "# cmp.run(X, Y, n_splits_val=3, plot=True)"
   ]
  },
  {
   "cell_type": "code",
   "execution_count": 12,
   "metadata": {},
   "outputs": [
    {
     "data": {
      "text/plain": [
       "[0.7853981633974483,\n",
       " 1,\n",
       " 1,\n",
       " 0.7853981633974483,\n",
       " 1,\n",
       " 1,\n",
       " 0.7853981633974483,\n",
       " 1,\n",
       " 1,\n",
       " 0.7853981633974483,\n",
       " 1,\n",
       " 1,\n",
       " 0.7853981633974483,\n",
       " 1,\n",
       " 1,\n",
       " 0.7853981633974483,\n",
       " 1,\n",
       " 1]"
      ]
     },
     "execution_count": 12,
     "metadata": {},
     "output_type": "execute_result"
    }
   ],
   "source": [
    "Y"
   ]
  },
  {
   "cell_type": "code",
   "execution_count": null,
   "metadata": {},
   "outputs": [],
   "source": []
  }
 ],
 "metadata": {
  "kernelspec": {
   "display_name": "Python 3",
   "language": "python",
   "name": "python3"
  },
  "language_info": {
   "codemirror_mode": {
    "name": "ipython",
    "version": 3
   },
   "file_extension": ".py",
   "mimetype": "text/x-python",
   "name": "python",
   "nbconvert_exporter": "python",
   "pygments_lexer": "ipython3",
   "version": "3.7.4"
  }
 },
 "nbformat": 4,
 "nbformat_minor": 4
}
