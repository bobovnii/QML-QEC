{
 "cells": [
  {
   "cell_type": "code",
   "execution_count": 1,
   "metadata": {},
   "outputs": [],
   "source": [
    "%matplotlib inline\n",
    "%load_ext autoreload\n",
    "%autoreload 2\n",
    "\n",
    "import warnings\n",
    "warnings.filterwarnings(\"ignore\")\n",
    "\n",
    "import sys\n",
    "sys.path.append('..')\n",
    "\n",
    "from qenv import Denoiser, Compare\n",
    "import json\n",
    "import numpy as np\n",
    "\n",
    "key_path = \"../res/qiskit_apikey.json\"\n",
    "with open(key_path, 'r') as f:\n",
    "    APIkey = json.load(f)['key']"
   ]
  },
  {
   "cell_type": "markdown",
   "metadata": {},
   "source": [
    "### Mock data"
   ]
  },
  {
   "cell_type": "code",
   "execution_count": 2,
   "metadata": {},
   "outputs": [],
   "source": [
    "cmp = Compare(seed=8)"
   ]
  },
  {
   "cell_type": "code",
   "execution_count": 3,
   "metadata": {},
   "outputs": [],
   "source": [
    "X = [\n",
    "    [0, 1, 0, 0.99],\n",
    "    [1, 0, 0.99, 0.2],\n",
    "    [1, 0, 0.99, 0.1],\n",
    "    [1, 0, 0.99, 0.05],\n",
    "    [1, 0, 0.99, 0.002],\n",
    "    [1, 0, 1, 0],\n",
    "]\n",
    "\n",
    "Y = [0.23, 0.43, 0.3, 0.2, 0.1, 0]"
   ]
  },
  {
   "cell_type": "code",
   "execution_count": 4,
   "metadata": {},
   "outputs": [
    {
     "name": "stdout",
     "output_type": "stream",
     "text": [
      "DT: -6.030000 (4.200214)\n",
      "RD: -10.280200 (10.946934)\n",
      "LA: -9.240000 (9.785704)\n",
      "EN: -9.240000 (9.785704)\n"
     ]
    },
    {
     "data": {
      "image/png": "[encoded data removed]",
      "text/plain": [
       "<Figure size 432x288 with 1 Axes>"
      ]
     },
     "metadata": {
      "needs_background": "light"
     },
     "output_type": "display_data"
    }
   ],
   "source": [
    "cmp.run(X, Y, n_splits_val=3, plot=True)"
   ]
  },
  {
   "cell_type": "markdown",
   "metadata": {},
   "source": [
    "### Real experiment"
   ]
  },
  {
   "cell_type": "code",
   "execution_count": 5,
   "metadata": {
    "scrolled": true
   },
   "outputs": [
    {
     "data": {
      "text/plain": [
       "[0.8522, 0.1478]"
      ]
     },
     "execution_count": 5,
     "metadata": {},
     "output_type": "execute_result"
    }
   ],
   "source": [
    "n_qubits = 1\n",
    "denoiser = Denoiser(n_qubits, APIkey)\n",
    "\n",
    "psi = [1, 0]\n",
    "theta = [(np.pi / 4, 0, 0)]\n",
    "dist = denoiser.get_dist(psi, theta)\n",
    "dist"
   ]
  },
  {
   "cell_type": "code",
   "execution_count": 6,
   "metadata": {
    "scrolled": false
   },
   "outputs": [
    {
     "name": "stdout",
     "output_type": "stream",
     "text": [
      "DT: 1.000000 (0.000000)\n",
      "RD: 1.000000 (0.000000)\n",
      "LA: 1.000000 (0.000000)\n",
      "EN: 1.000000 (0.000000)\n"
     ]
    },
    {
     "data": {
      "image/png": "[encoded data removed]",
      "text/plain": [
       "<Figure size 432x288 with 1 Axes>"
      ]
     },
     "metadata": {
      "needs_background": "light"
     },
     "output_type": "display_data"
    }
   ],
   "source": [
    "cmp = Compare(seed=8)\n",
    "\n",
    "X = list()\n",
    "Y = list()\n",
    "\n",
    "for i in range(6):\n",
    "    exp_list = list()\n",
    "    exp_list.extend(psi)\n",
    "    exp_list.extend(dist)\n",
    "    \n",
    "    X.append(exp_list)\n",
    "    # FIX: Don't know what parameters to pass here\n",
    "    Y.append(theta[0][0])\n",
    "\n",
    "cmp.run(X, Y, n_splits_val=3, plot=True)"
   ]
  },
  {
   "cell_type": "code",
   "execution_count": null,
   "metadata": {},
   "outputs": [],
   "source": []
  }
 ],
 "metadata": {
  "kernelspec": {
   "display_name": "Python 3",
   "language": "python",
   "name": "python3"
  },
  "language_info": {
   "codemirror_mode": {
    "name": "ipython",
    "version": 3
   },
   "file_extension": ".py",
   "mimetype": "text/x-python",
   "name": "python",
   "nbconvert_exporter": "python",
   "pygments_lexer": "ipython3",
   "version": "3.7.4"
  }
 },
 "nbformat": 4,
 "nbformat_minor": 4
}
