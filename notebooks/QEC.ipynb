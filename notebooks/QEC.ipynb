{
  "nbformat": 4,
  "nbformat_minor": 0,
  "metadata": {
    "colab": {
      "name": "QEC.ipynb",
      "provenance": [],
      "include_colab_link": true
    },
    "kernelspec": {
      "name": "python3",
      "display_name": "Python 3"
    }
  },
  "cells": [
    {
      "cell_type": "markdown",
      "metadata": {
        "id": "view-in-github",
        "colab_type": "text"
      },
      "source": [
        "<a href=\"https://colab.research.google.com/github/bobovnii/QML-QEC/blob/master/QEC.ipynb\" target=\"_parent\"><img src=\"https://colab.research.google.com/assets/colab-badge.svg\" alt=\"Open In Colab\"/></a>"
      ]
    },
    {
      "cell_type": "code",
      "metadata": {
        "id": "rJTwZ9wnX-j8",
        "colab_type": "code",
        "colab": {}
      },
      "source": [
        "\n",
        "import numpy as np\n",
        "\n",
        "from noisyopt import minimizeCompass\n",
        "\n"
      ],
      "execution_count": 0,
      "outputs": []
    },
    {
      "cell_type": "code",
      "metadata": {
        "id": "nMLojM7bYSPJ",
        "colab_type": "code",
        "colab": {
          "base_uri": "https://localhost:8080/",
          "height": 141
        },
        "outputId": "65c1dc68-30c9-4d77-9388-e29a0ecc2f77"
      },
      "source": [
        "pip install noisyopt"
      ],
      "execution_count": 2,
      "outputs": [
        {
          "output_type": "stream",
          "text": [
            "Collecting noisyopt\n",
            "  Downloading https://files.pythonhosted.org/packages/ed/e1/9fef3bf87c80ddb5e88df2654c8351bef9d027f3f4d485ad3c31b4f7ed50/noisyopt-0.2.2-py2.py3-none-any.whl\n",
            "Requirement already satisfied: numpy in /usr/local/lib/python3.6/dist-packages (from noisyopt) (1.16.5)\n",
            "Requirement already satisfied: scipy in /usr/local/lib/python3.6/dist-packages (from noisyopt) (1.3.1)\n",
            "Installing collected packages: noisyopt\n",
            "Successfully installed noisyopt-0.2.2\n"
          ],
          "name": "stdout"
        }
      ]
    },
    {
      "cell_type": "code",
      "metadata": {
        "id": "67RriyyaY4tQ",
        "colab_type": "code",
        "colab": {}
      },
      "source": [
        "def obj(x):\n",
        "    return (x**2).sum() + 0.1*np.random.randn()\n",
        "\n",
        "res = minimizeCompass(obj, x0=[1.0, 2.0,2.0,2.0,2.0,2.0,2.0,2.0,2.0,2.0], deltatol=0.1, paired=False)"
      ],
      "execution_count": 0,
      "outputs": []
    },
    {
      "cell_type": "code",
      "metadata": {
        "id": "cJNyjdxrZQHf",
        "colab_type": "code",
        "colab": {
          "base_uri": "https://localhost:8080/",
          "height": 156
        },
        "outputId": "b97e11f2-9068-42ba-b502-cbcd27a54dcb"
      },
      "source": [
        "res"
      ],
      "execution_count": 14,
      "outputs": [
        {
          "output_type": "execute_result",
          "data": {
            "text/plain": [
              "    free: array([False, False])\n",
              "     fun: 0.2497912870213619\n",
              "   funse: 0.002252999913355618\n",
              " message: 'convergence within deltatol'\n",
              "    nfev: 9900\n",
              "     nit: 9\n",
              " success: True\n",
              "       x: array([0. , 0.5])"
            ]
          },
          "metadata": {
            "tags": []
          },
          "execution_count": 14
        }
      ]
    },
    {
      "cell_type": "code",
      "metadata": {
        "id": "hTefiqF8ZRs1",
        "colab_type": "code",
        "colab": {}
      },
      "source": [
        "bounds = [[-3.0, 3.0], [0.5, 5.0]]\n",
        "x0 = np.array([-2.0, 2.0])"
      ],
      "execution_count": 0,
      "outputs": []
    },
    {
      "cell_type": "code",
      "metadata": {
        "id": "g9JCgFWHaPy-",
        "colab_type": "code",
        "colab": {}
      },
      "source": [
        "res = minimizeCompass(obj, bounds=bounds, x0=x0, deltatol=0.1, paired=False)"
      ],
      "execution_count": 0,
      "outputs": []
    },
    {
      "cell_type": "code",
      "metadata": {
        "id": "EE-tNlI9aqdr",
        "colab_type": "code",
        "colab": {}
      },
      "source": [
        ""
      ],
      "execution_count": 0,
      "outputs": []
    }
  ]
}