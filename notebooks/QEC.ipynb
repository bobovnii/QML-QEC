{
 "cells": [
  {
   "cell_type": "code",
   "execution_count": 1,
   "metadata": {},
   "outputs": [],
   "source": [
    "%matplotlib inline\n",
    "%load_ext autoreload\n",
    "%autoreload 2\n",
    "\n",
    "import warnings\n",
    "warnings.filterwarnings(\"ignore\")\n",
    "\n",
    "from qiskit.tools.visualization import plot_histogram\n",
    "from noisyopt import minimizeCompass\n",
    "import matplotlib.pyplot as plt\n",
    "import numpy as np\n",
    "import random\n",
    "import json\n",
    "\n",
    "import sys\n",
    "sys.path.append(\"..\")\n",
    "from qenv import Denoiser2\n",
    "\n",
    "key_path = \"../res/qiskit_apikey.json\"\n",
    "with open(key_path, \"r\") as f:\n",
    "    APIkey = json.load(f)[\"key\"]"
   ]
  },
  {
   "cell_type": "code",
   "execution_count": 2,
   "metadata": {},
   "outputs": [],
   "source": [
    "n_qubits = 2\n",
    "denoiser = Denoiser2(n_qubits, APIkey)\n",
    "out = denoiser.get_dist([1, 0, 0, 0], [(0, 0, 0), (0, 0, 0)])"
   ]
  },
  {
   "cell_type": "code",
   "execution_count": 5,
   "metadata": {},
   "outputs": [],
   "source": [
    "def func(Theta, x, n=1):\n",
    "    res = [np.array(denoiser.get_dist(x, [(Theta[0], Theta[1], Theta[2]), (Theta[3], Theta[4], Theta[5])], shots=1)) for i in range(n)]\n",
    "    return res\n",
    "\n",
    "\n",
    "xx = np.eye(2 ** n_qubits)\n",
    "\n",
    "\n",
    "def Los2(Theta):\n",
    "    return sum(\n",
    "        np.linalg.norm(func(Theta, xx[i]) - xx[i]) for i in range(2 ** n_qubits - 1)\n",
    "    )\n",
    "\n",
    "\n",
    "def Los3(test):\n",
    "    return Los2([0, 0, test, 0, 0, 0])\n",
    "\n",
    "\n",
    "res = minimizeCompass(\n",
    "    Los3, x0=[1], bounds=[[-np.pi, np.pi]], deltatol=0.1, paired=False\n",
    ")"
   ]
  },
  {
   "cell_type": "code",
   "execution_count": 15,
   "metadata": {},
   "outputs": [
    {
     "data": {
      "image/png": "[encoded data removed]",
      "text/plain": [
       "<Figure size 504x360 with 1 Axes>"
      ]
     },
     "execution_count": 15,
     "metadata": {},
     "output_type": "execute_result"
    }
   ],
   "source": [
    "a = {\n",
    "    \"00\": func([0, 0, 0, 0, 0, 0], [1, 0, 0, 0])[0][0],\n",
    "    \"01\": func([0, 0, 0, 0, 0, 0], [0, 1, 0, 0])[0][1],\n",
    "    \"10\": func([0, 0, 0, 0, 0, 0], [0, 0, 1, 0])[0][2],\n",
    "    \"11\": func([0, 0, 0, 0, 0, 0], [0, 0, 0, 1])[0][3],\n",
    "}\n",
    "b = {\n",
    "    \"00\": func([0, 0, res.x[0], 0, 0, 0], [1, 0, 0, 0])[0][0],\n",
    "    \"01\": func([0, 0, res.x[0], 0, 0, 0], [0, 1, 0, 0])[0][1],\n",
    "    \"10\": func([0, 0, res.x[0], 0, 0, 0], [0, 0, 1, 0])[0][2],\n",
    "    \"11\": func([0, 0, res.x[0], 0, 0, 0], [0, 0, 0, 1])[0][3],\n",
    "}\n",
    "\n",
    "legend = [\"without VQEC\", \"with VQEC\"]\n",
    "plot_histogram([a, b], legend=legend)"
   ]
  },
  {
   "cell_type": "code",
   "execution_count": 17,
   "metadata": {},
   "outputs": [
    {
     "data": {
      "image/png": "[encoded data removed]",
      "text/plain": [
       "<Figure size 432x288 with 1 Axes>"
      ]
     },
     "metadata": {
      "needs_background": "light"
     },
     "output_type": "display_data"
    }
   ],
   "source": [
    "a = {\n",
    "    \"00\": func([0, 0, 0, 0, 0, 0], [1, 0, 0, 0])[0][0],\n",
    "    \"01\": func([0, 0, 0, 0, 0, 0], [1, 0, 0, 0])[0][1],\n",
    "    \"10\": func([0, 0, 0, 0, 0, 0], [1, 0, 0, 0])[0][2],\n",
    "    \"11\": func([0, 0, 0, 0, 0, 0], [1, 0, 0, 0])[0][3],\n",
    "}\n",
    "b = {\n",
    "    \"00\": func([0, 0, res.x[0], 0, 0, 0], [1, 0, 0, 0])[0][0],\n",
    "    \"01\": func([0, 0, res.x[0], 0, 0, 0], [1, 0, 0, 0])[0][1],\n",
    "    \"10\": func([0, 0, res.x[0], 0, 0, 0], [1, 0, 0, 0])[0][2],\n",
    "    \"11\": func([0, 0, res.x[0], 0, 0, 0], [1, 0, 0, 0])[0][3],\n",
    "}\n",
    "\n",
    "legend = [\"without VQEC\", \"with VQEC\"]\n",
    "plot_histogram([a, b], legend=legend)\n",
    "\n",
    "x = [random.gauss(3, 1) for _ in range(400)]\n",
    "y = [random.gauss(4, 2) for _ in range(400)]\n",
    "bins = np.linspace(-10, 10, 100)\n",
    "\n",
    "plt.hist(x, bins, alpha=0.5, label=\"x\")\n",
    "plt.hist(y, bins, alpha=0.5, label=\"y\")\n",
    "plt.legend(loc=\"upper right\")\n",
    "plt.show()"
   ]
  },
  {
   "cell_type": "code",
   "execution_count": null,
   "metadata": {},
   "outputs": [],
   "source": []
  }
 ],
 "metadata": {
  "colab": {
   "collapsed_sections": [],
   "include_colab_link": true,
   "name": "QEC2.ipynb",
   "provenance": []
  },
  "kernelspec": {
   "display_name": "Python 3",
   "language": "python",
   "name": "python3"
  },
  "language_info": {
   "codemirror_mode": {
    "name": "ipython",
    "version": 3
   },
   "file_extension": ".py",
   "mimetype": "text/x-python",
   "name": "python",
   "nbconvert_exporter": "python",
   "pygments_lexer": "ipython3",
   "version": "3.7.4"
  }
 },
 "nbformat": 4,
 "nbformat_minor": 1
}
